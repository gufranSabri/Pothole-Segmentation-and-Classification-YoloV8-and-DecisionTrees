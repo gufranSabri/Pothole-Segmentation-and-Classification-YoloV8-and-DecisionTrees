{
 "cells": [
  {
   "cell_type": "code",
   "execution_count": 1,
   "id": "4c231a72",
   "metadata": {},
   "outputs": [],
   "source": [
    "import numpy as np\n",
    "import pandas as pd\n",
    "import matplotlib.pyplot as plt\n",
    "\n",
    "from sklearn.impute import SimpleImputer\n",
    "from sklearn.compose import ColumnTransformer\n",
    "from sklearn.preprocessing import OneHotEncoder\n",
    "from sklearn.preprocessing import LabelEncoder\n",
    "from sklearn.model_selection import train_test_split\n",
    "from sklearn.preprocessing import StandardScaler\n",
    "\n",
    "from sklearn.linear_model import LinearRegression\n",
    "from sklearn.preprocessing import PolynomialFeatures\n",
    "from sklearn.svm import SVR\n",
    "from sklearn.tree import DecisionTreeRegressor\n",
    "from sklearn.ensemble import RandomForestRegressor\n",
    "\n",
    "from sklearn.linear_model import LogisticRegression\n",
    "from sklearn.neighbors import KNeighborsClassifier\n",
    "from sklearn.svm import SVC\n",
    "from sklearn.naive_bayes import GaussianNB\n",
    "from sklearn.tree import DecisionTreeClassifier\n",
    "from sklearn.ensemble import RandomForestClassifier\n",
    "\n",
    "from sklearn.cluster import KMeans\n",
    "\n",
    "from sklearn.metrics import accuracy_score, confusion_matrix \n",
    "from sklearn.metrics import r2_score\n",
    "import itertools\n",
    "\n",
    "%matplotlib inline"
   ]
  },
  {
   "cell_type": "code",
   "execution_count": 2,
   "id": "05a3eb1b",
   "metadata": {},
   "outputs": [],
   "source": [
    "PATH = \"/media/gufran/GsHDD/Work/Projects/AI/PSP/Data/ClassificationData/\""
   ]
  },
  {
   "cell_type": "code",
   "execution_count": 3,
   "id": "5d131d60",
   "metadata": {},
   "outputs": [],
   "source": [
    "dfz3 = pd.read_csv(PATH+'/dataz3.csv')\n",
    "dfz3.drop(['imgpath'], axis=1, inplace=True)"
   ]
  },
  {
   "cell_type": "code",
   "execution_count": 4,
   "id": "5b2cc91b",
   "metadata": {
    "scrolled": true
   },
   "outputs": [
    {
     "data": {
      "text/html": [
       "<div>\n",
       "<style scoped>\n",
       "    .dataframe tbody tr th:only-of-type {\n",
       "        vertical-align: middle;\n",
       "    }\n",
       "\n",
       "    .dataframe tbody tr th {\n",
       "        vertical-align: top;\n",
       "    }\n",
       "\n",
       "    .dataframe thead th {\n",
       "        text-align: right;\n",
       "    }\n",
       "</style>\n",
       "<table border=\"1\" class=\"dataframe\">\n",
       "  <thead>\n",
       "    <tr style=\"text-align: right;\">\n",
       "      <th></th>\n",
       "      <th>height</th>\n",
       "      <th>width</th>\n",
       "      <th>area</th>\n",
       "      <th>pothole_area</th>\n",
       "      <th>nonpothole_area</th>\n",
       "    </tr>\n",
       "  </thead>\n",
       "  <tbody>\n",
       "    <tr>\n",
       "      <th>0</th>\n",
       "      <td>225</td>\n",
       "      <td>290</td>\n",
       "      <td>65250</td>\n",
       "      <td>39803</td>\n",
       "      <td>25447</td>\n",
       "    </tr>\n",
       "    <tr>\n",
       "      <th>1</th>\n",
       "      <td>222</td>\n",
       "      <td>301</td>\n",
       "      <td>66822</td>\n",
       "      <td>41166</td>\n",
       "      <td>25656</td>\n",
       "    </tr>\n",
       "    <tr>\n",
       "      <th>2</th>\n",
       "      <td>209</td>\n",
       "      <td>317</td>\n",
       "      <td>66253</td>\n",
       "      <td>39794</td>\n",
       "      <td>26459</td>\n",
       "    </tr>\n",
       "    <tr>\n",
       "      <th>3</th>\n",
       "      <td>210</td>\n",
       "      <td>300</td>\n",
       "      <td>63000</td>\n",
       "      <td>38570</td>\n",
       "      <td>24430</td>\n",
       "    </tr>\n",
       "    <tr>\n",
       "      <th>4</th>\n",
       "      <td>185</td>\n",
       "      <td>282</td>\n",
       "      <td>52170</td>\n",
       "      <td>32183</td>\n",
       "      <td>19987</td>\n",
       "    </tr>\n",
       "  </tbody>\n",
       "</table>\n",
       "</div>"
      ],
      "text/plain": [
       "   height  width   area  pothole_area  nonpothole_area\n",
       "0     225    290  65250         39803            25447\n",
       "1     222    301  66822         41166            25656\n",
       "2     209    317  66253         39794            26459\n",
       "3     210    300  63000         38570            24430\n",
       "4     185    282  52170         32183            19987"
      ]
     },
     "execution_count": 4,
     "metadata": {},
     "output_type": "execute_result"
    }
   ],
   "source": [
    "dfz3.head()"
   ]
  },
  {
   "cell_type": "code",
   "execution_count": 5,
   "id": "c566676b",
   "metadata": {},
   "outputs": [
    {
     "data": {
      "text/plain": [
       "(930, 5)"
      ]
     },
     "execution_count": 5,
     "metadata": {},
     "output_type": "execute_result"
    }
   ],
   "source": [
    "dfz3.shape"
   ]
  },
  {
   "cell_type": "code",
   "execution_count": 6,
   "id": "db698328-6a45-4f51-8c64-c8983e49a7bc",
   "metadata": {},
   "outputs": [
    {
     "data": {
      "text/html": [
       "<div>\n",
       "<style scoped>\n",
       "    .dataframe tbody tr th:only-of-type {\n",
       "        vertical-align: middle;\n",
       "    }\n",
       "\n",
       "    .dataframe tbody tr th {\n",
       "        vertical-align: top;\n",
       "    }\n",
       "\n",
       "    .dataframe thead th {\n",
       "        text-align: right;\n",
       "    }\n",
       "</style>\n",
       "<table border=\"1\" class=\"dataframe\">\n",
       "  <thead>\n",
       "    <tr style=\"text-align: right;\">\n",
       "      <th></th>\n",
       "      <th>width</th>\n",
       "      <th>area</th>\n",
       "      <th>pothole_area</th>\n",
       "      <th>nonpothole_area</th>\n",
       "    </tr>\n",
       "  </thead>\n",
       "  <tbody>\n",
       "    <tr>\n",
       "      <th>0</th>\n",
       "      <td>290</td>\n",
       "      <td>65250</td>\n",
       "      <td>39803</td>\n",
       "      <td>25447</td>\n",
       "    </tr>\n",
       "    <tr>\n",
       "      <th>1</th>\n",
       "      <td>301</td>\n",
       "      <td>66822</td>\n",
       "      <td>41166</td>\n",
       "      <td>25656</td>\n",
       "    </tr>\n",
       "    <tr>\n",
       "      <th>2</th>\n",
       "      <td>317</td>\n",
       "      <td>66253</td>\n",
       "      <td>39794</td>\n",
       "      <td>26459</td>\n",
       "    </tr>\n",
       "    <tr>\n",
       "      <th>3</th>\n",
       "      <td>300</td>\n",
       "      <td>63000</td>\n",
       "      <td>38570</td>\n",
       "      <td>24430</td>\n",
       "    </tr>\n",
       "    <tr>\n",
       "      <th>4</th>\n",
       "      <td>282</td>\n",
       "      <td>52170</td>\n",
       "      <td>32183</td>\n",
       "      <td>19987</td>\n",
       "    </tr>\n",
       "  </tbody>\n",
       "</table>\n",
       "</div>"
      ],
      "text/plain": [
       "   width   area  pothole_area  nonpothole_area\n",
       "0    290  65250         39803            25447\n",
       "1    301  66822         41166            25656\n",
       "2    317  66253         39794            26459\n",
       "3    300  63000         38570            24430\n",
       "4    282  52170         32183            19987"
      ]
     },
     "execution_count": 6,
     "metadata": {},
     "output_type": "execute_result"
    }
   ],
   "source": [
    "x3 = dfz3.iloc[:,1:]\n",
    "\n",
    "x3.head()"
   ]
  },
  {
   "cell_type": "markdown",
   "id": "942a2f5a-71a1-40e0-9253-4be7d56fcd45",
   "metadata": {},
   "source": [
    "### Elbow method"
   ]
  },
  {
   "cell_type": "code",
   "execution_count": 43,
   "id": "e4e50f19",
   "metadata": {},
   "outputs": [
    {
     "data": {
      "text/plain": [
       "[<matplotlib.lines.Line2D at 0x7f740a3c64f0>]"
      ]
     },
     "execution_count": 43,
     "metadata": {},
     "output_type": "execute_result"
    },
    {
     "data": {
      "image/png": "[encoded data removed]",
      "text/plain": [
       "<Figure size 432x288 with 1 Axes>"
      ]
     },
     "metadata": {
      "needs_background": "light"
     },
     "output_type": "display_data"
    }
   ],
   "source": [
    "sse = []\n",
    "k_rng = range(1,10)\n",
    "for k in k_rng:\n",
    "    km = KMeans(n_clusters=k)\n",
    "    km.fit(dfz3)\n",
    "    sse.append(km.inertia_)\n",
    "    \n",
    "plt.xlabel('K')\n",
    "plt.ylabel('Sum of squared error')\n",
    "plt.plot(k_rng,sse)"
   ]
  },
  {
   "cell_type": "markdown",
   "id": "d3d04ba8-fa4d-45ea-80eb-7f5f5d0fb65a",
   "metadata": {},
   "source": [
    "### Clustering"
   ]
  },
  {
   "cell_type": "code",
   "execution_count": 52,
   "id": "4d5612d9-4628-4d80-90da-88506be7333d",
   "metadata": {},
   "outputs": [],
   "source": [
    "kmeans3 = KMeans(n_clusters = 3, init = 'k-means++')\n",
    "classes3 = kmeans3.fit_predict(x3)\n",
    "dfz3[\"cluster\"] = kmeans3.fit_predict(dfz3)"
   ]
  },
  {
   "cell_type": "code",
   "execution_count": 53,
   "id": "4963df77-5cfa-4794-b43c-6d5bd804c60c",
   "metadata": {},
   "outputs": [],
   "source": [
    "x3 = dfz3.iloc[:,:-1].values\n",
    "y3 = dfz3.iloc[:,-1]"
   ]
  },
  {
   "cell_type": "code",
   "execution_count": 54,
   "id": "83c27ca6-6597-4a2a-9b0b-7f36c9e92087",
   "metadata": {},
   "outputs": [],
   "source": [
    "x_train3, x_test3, y_train3, y_test3 = train_test_split(x3, y3, test_size = 0.4, random_state = 1)"
   ]
  },
  {
   "cell_type": "code",
   "execution_count": 55,
   "id": "3b8215e7-1e4e-4b00-ac45-7d8e655a210b",
   "metadata": {},
   "outputs": [
    {
     "name": "stdout",
     "output_type": "stream",
     "text": [
      "(558, 5)\n",
      "(372, 5)\n",
      "(558,)\n",
      "(372,)\n"
     ]
    }
   ],
   "source": [
    "print(x_train3.shape)\n",
    "print(x_test3.shape)\n",
    "print(y_train3.shape)\n",
    "print(y_test3.shape)"
   ]
  },
  {
   "cell_type": "code",
   "execution_count": 56,
   "id": "a279d607-bbeb-4e15-81cc-4be0b4615bed",
   "metadata": {},
   "outputs": [],
   "source": [
    "sc = StandardScaler()\n",
    "x_train3 = sc.fit_transform(x_train3)\n",
    "x_test3 = sc.transform(x_test3)"
   ]
  },
  {
   "cell_type": "code",
   "execution_count": 57,
   "id": "0aabd619-b703-4727-ac0a-4dd58d958ed1",
   "metadata": {},
   "outputs": [],
   "source": [
    "def plot_confusion_matrix(cm, classes,normalize=False,title='Confusion matrix',cmap=plt.cm.Blues):\n",
    "    plt.imshow(cm, interpolation='nearest', cmap=cmap)\n",
    "    plt.title(title)\n",
    "    plt.colorbar()\n",
    "    tick_marks = np.arange(len(classes))\n",
    "    plt.xticks(tick_marks, classes, rotation=45)\n",
    "    plt.yticks(tick_marks, classes)\n",
    "\n",
    "    if normalize:\n",
    "        cm = cm.astype('float') / cm.sum(axis=1)[:, np.newaxis]\n",
    "        print(\"Normalized confusion matrix\")\n",
    "    else:\n",
    "        print('Confusion matrix, without normalization')\n",
    "\n",
    "    print(cm)\n",
    "\n",
    "    thresh = cm.max() / 2.\n",
    "    for i, j in itertools.product(range(cm.shape[0]), range(cm.shape[1])):\n",
    "        plt.text(j, i, cm[i, j],\n",
    "            horizontalalignment=\"center\",\n",
    "            color=\"white\" if cm[i, j] > thresh else \"black\")"
   ]
  },
  {
   "cell_type": "markdown",
   "id": "cdafd971-5430-42af-a690-14d623023d94",
   "metadata": {},
   "source": [
    "### Building classifier based on KMeans clustering"
   ]
  },
  {
   "cell_type": "code",
   "execution_count": 58,
   "id": "9d97c51f-a931-4adc-a12e-be255f337c0c",
   "metadata": {},
   "outputs": [
    {
     "data": {
      "text/plain": [
       "RandomForestClassifier(criterion='entropy', n_estimators=10)"
      ]
     },
     "execution_count": 58,
     "metadata": {},
     "output_type": "execute_result"
    }
   ],
   "source": [
    "lr_classifier3 = LogisticRegression()\n",
    "knn_classifier3 = KNeighborsClassifier(n_neighbors = 5,p=2,metric = \"minkowski\")\n",
    "svm_classifier3 = SVC(kernel = 'linear')\n",
    "k_svm_classifier3 = SVC(kernel = 'rbf')\n",
    "nb_classifier3 = GaussianNB()\n",
    "dt_classifier3 = DecisionTreeClassifier(criterion = 'entropy')\n",
    "rf_classifier3 = RandomForestClassifier(n_estimators = 10, criterion = 'entropy')\n",
    "\n",
    "lr_classifier3.fit(x_train3, y_train3)\n",
    "knn_classifier3.fit(x_train3, y_train3)\n",
    "svm_classifier3.fit(x_train3, y_train3)\n",
    "k_svm_classifier3.fit(x_train3, y_train3)\n",
    "nb_classifier3.fit(x_train3, y_train3)\n",
    "dt_classifier3.fit(x_train3, y_train3)\n",
    "rf_classifier3.fit(x_train3, y_train3)"
   ]
  },
  {
   "cell_type": "code",
   "execution_count": 59,
   "id": "f6e7fe68-f552-49d9-a824-8e85c2190c6c",
   "metadata": {},
   "outputs": [
    {
     "name": "stdout",
     "output_type": "stream",
     "text": [
      "Logistic Regression Z3\n",
      "Confusion matrix, without normalization\n",
      "[[225   0   1]\n",
      " [  0  25   2]\n",
      " [  5   1 113]]\n",
      "Accuracy =  0.9758064516129032\n"
     ]
    },
    {
     "data": {
      "image/png": "[encoded data removed]",
      "text/plain": [
       "<Figure size 432x288 with 2 Axes>"
      ]
     },
     "metadata": {
      "needs_background": "light"
     },
     "output_type": "display_data"
    }
   ],
   "source": [
    "print(\"Logistic Regression Z3\")\n",
    "y_pred31 = lr_classifier3.predict(x_test3)\n",
    "\n",
    "cm = confusion_matrix(y_test3, y_pred31)\n",
    "labels = ['0', '1', '2']\n",
    "\n",
    "plot_confusion_matrix(cm, classes = labels)\n",
    "\n",
    "print('Accuracy = ', accuracy_score(y_test3, y_pred31))"
   ]
  },
  {
   "cell_type": "code",
   "execution_count": 60,
   "id": "a81360cd-23c5-46d6-b979-4586e7427d80",
   "metadata": {},
   "outputs": [
    {
     "name": "stdout",
     "output_type": "stream",
     "text": [
      "KNN Z3\n",
      "Confusion matrix, without normalization\n",
      "[[225   0   1]\n",
      " [  0  25   2]\n",
      " [  4   1 114]]\n",
      "Accuracy =  0.978494623655914\n"
     ]
    },
    {
     "data": {
      "image/png": "[encoded data removed]",
      "text/plain": [
       "<Figure size 432x288 with 2 Axes>"
      ]
     },
     "metadata": {
      "needs_background": "light"
     },
     "output_type": "display_data"
    }
   ],
   "source": [
    "print(\"KNN Z3\")\n",
    "y_pred32 = knn_classifier3.predict(x_test3)\n",
    "\n",
    "cm = confusion_matrix(y_test3, y_pred32)\n",
    "labels = ['0', '1', '2']\n",
    "\n",
    "plot_confusion_matrix(cm, classes = labels)\n",
    "\n",
    "print('Accuracy = ', accuracy_score(y_test3, y_pred32))"
   ]
  },
  {
   "cell_type": "code",
   "execution_count": 61,
   "id": "28bfff87-3d1b-4567-9c37-c7d093421ab9",
   "metadata": {},
   "outputs": [
    {
     "name": "stdout",
     "output_type": "stream",
     "text": [
      "SVM Z3\n",
      "Confusion matrix, without normalization\n",
      "[[225   0   1]\n",
      " [  0  25   2]\n",
      " [  4   1 114]]\n",
      "Accuracy =  0.978494623655914\n"
     ]
    },
    {
     "data": {
      "image/png": "[encoded data removed]",
      "text/plain": [
       "<Figure size 432x288 with 2 Axes>"
      ]
     },
     "metadata": {
      "needs_background": "light"
     },
     "output_type": "display_data"
    }
   ],
   "source": [
    "print(\"SVM Z3\")\n",
    "y_pred33 = svm_classifier3.predict(x_test3)\n",
    "\n",
    "cm = confusion_matrix(y_test3, y_pred32)\n",
    "labels = ['0', '1', '2']\n",
    "\n",
    "plot_confusion_matrix(cm, classes = labels)\n",
    "\n",
    "print('Accuracy = ', accuracy_score(y_test3, y_pred32))"
   ]
  },
  {
   "cell_type": "code",
   "execution_count": 62,
   "id": "f9672adb-ecf1-4004-a14a-c18feb7a2f33",
   "metadata": {},
   "outputs": [
    {
     "name": "stdout",
     "output_type": "stream",
     "text": [
      "RBF-SVM Z3\n",
      "Confusion matrix, without normalization\n",
      "[[226   0   0]\n",
      " [  0  25   2]\n",
      " [  4   0 115]]\n",
      "Accuracy =  0.9838709677419355\n"
     ]
    },
    {
     "data": {
      "image/png": "[encoded data removed]",
      "text/plain": [
       "<Figure size 432x288 with 2 Axes>"
      ]
     },
     "metadata": {
      "needs_background": "light"
     },
     "output_type": "display_data"
    }
   ],
   "source": [
    "print(\"RBF-SVM Z3\")\n",
    "y_pred34 = k_svm_classifier3.predict(x_test3)\n",
    "\n",
    "cm = confusion_matrix(y_test3, y_pred34)\n",
    "labels = ['0', '1', '2']\n",
    "\n",
    "plot_confusion_matrix(cm, classes = labels)\n",
    "\n",
    "print('Accuracy = ', accuracy_score(y_test3, y_pred34))"
   ]
  },
  {
   "cell_type": "code",
   "execution_count": 63,
   "id": "87fbc17d-d1b6-41f1-b310-3ed0ddc3b50f",
   "metadata": {},
   "outputs": [
    {
     "name": "stdout",
     "output_type": "stream",
     "text": [
      "Naive Bayes Z3\n",
      "Confusion matrix, without normalization\n",
      "[[223   0   3]\n",
      " [  0  27   0]\n",
      " [  1   4 114]]\n",
      "Accuracy =  0.978494623655914\n"
     ]
    },
    {
     "data": {
      "image/png": "[encoded data removed]",
      "text/plain": [
       "<Figure size 432x288 with 2 Axes>"
      ]
     },
     "metadata": {
      "needs_background": "light"
     },
     "output_type": "display_data"
    }
   ],
   "source": [
    "print(\"Naive Bayes Z3\")\n",
    "y_pred35 = nb_classifier3.predict(x_test3)\n",
    "\n",
    "cm = confusion_matrix(y_test3, y_pred35)\n",
    "labels = ['0', '1', '2']\n",
    "\n",
    "plot_confusion_matrix(cm, classes = labels)\n",
    "\n",
    "print('Accuracy = ', accuracy_score(y_test3, y_pred35))"
   ]
  },
  {
   "cell_type": "code",
   "execution_count": 64,
   "id": "b87a558a-e2b0-40d2-a3ce-d9f9b352d3a5",
   "metadata": {},
   "outputs": [
    {
     "name": "stdout",
     "output_type": "stream",
     "text": [
      "Decision Tree Z3\n",
      "Confusion matrix, without normalization\n",
      "[[223   0   3]\n",
      " [  0  27   0]\n",
      " [  0   1 118]]\n",
      "Accuracy =  0.989247311827957\n"
     ]
    },
    {
     "data": {
      "image/png": "[encoded data removed]",
      "text/plain": [
       "<Figure size 432x288 with 2 Axes>"
      ]
     },
     "metadata": {
      "needs_background": "light"
     },
     "output_type": "display_data"
    }
   ],
   "source": [
    "print(\"Decision Tree Z3\")\n",
    "y_pred36 = dt_classifier3.predict(x_test3)\n",
    "\n",
    "cm = confusion_matrix(y_test3, y_pred36)\n",
    "labels = ['0', '1', '2']\n",
    "\n",
    "plot_confusion_matrix(cm, classes = labels)\n",
    "\n",
    "print('Accuracy = ', accuracy_score(y_test3, y_pred36))"
   ]
  },
  {
   "cell_type": "code",
   "execution_count": 65,
   "id": "441f7ddc-05d0-4ac5-a127-9cf20c10456b",
   "metadata": {},
   "outputs": [
    {
     "name": "stdout",
     "output_type": "stream",
     "text": [
      "Random Forest Z3\n",
      "Confusion matrix, without normalization\n",
      "[[224   0   2]\n",
      " [  0  27   0]\n",
      " [  1   2 116]]\n",
      "Accuracy =  0.9865591397849462\n"
     ]
    },
    {
     "data": {
      "image/png": "[encoded data removed]",
      "text/plain": [
       "<Figure size 432x288 with 2 Axes>"
      ]
     },
     "metadata": {
      "needs_background": "light"
     },
     "output_type": "display_data"
    }
   ],
   "source": [
    "print(\"Random Forest Z3\")\n",
    "y_pred37 = rf_classifier3.predict(x_test3)\n",
    "\n",
    "cm = confusion_matrix(y_test3, y_pred37)\n",
    "labels = ['0', '1', '2']\n",
    "\n",
    "plot_confusion_matrix(cm, classes = labels)\n",
    "\n",
    "print('Accuracy = ', accuracy_score(y_test3, y_pred37))"
   ]
  },
  {
   "cell_type": "markdown",
   "id": "9940c31b-e64b-461e-9c60-ebe9f053965b",
   "metadata": {},
   "source": [
    "### Accuracies"
   ]
  },
  {
   "cell_type": "code",
   "execution_count": 75,
   "id": "94c1cea3-42d8-4dce-ad10-c802791ee77d",
   "metadata": {},
   "outputs": [
    {
     "name": "stdout",
     "output_type": "stream",
     "text": [
      "Logistic Regression =  0.8575268817204301\n",
      "K-Nearest Neighbors =  0.9489247311827957\n",
      "Linear Support Vector Machine =  0.989247311827957\n",
      "RBF Kernel Support Vector Machine =  0.9220430107526881\n",
      "Naive Bayes =  0.8682795698924731\n",
      "Decision Tree =  0.9973118279569892\n",
      "Random Forest =  0.9865591397849462\n"
     ]
    }
   ],
   "source": [
    "print('Logistic Regression = ', accuracy_score(y_test3, y_pred31))\n",
    "print('K-Nearest Neighbors = ', accuracy_score(y_test3, y_pred32))\n",
    "print('Linear Support Vector Machine = ', accuracy_score(y_test3, y_pred33))\n",
    "print('RBF Kernel Support Vector Machine = ', accuracy_score(y_test3, y_pred34))\n",
    "print('Naive Bayes = ', accuracy_score(y_test3, y_pred35))\n",
    "print('Decision Tree = ', accuracy_score(y_test3, y_pred36))\n",
    "print('Random Forest = ', accuracy_score(y_test3, y_pred37))"
   ]
  },
  {
   "cell_type": "code",
   "execution_count": 67,
   "id": "4e25b839",
   "metadata": {},
   "outputs": [],
   "source": [
    "df2dz3 = dfz3.drop(['height','width','nonpothole_area'], axis=1)\n",
    "df2dz3[\"cluster\"] = y_pred1 = kmeans3.fit_predict(df2dz3)"
   ]
  },
  {
   "cell_type": "code",
   "execution_count": 68,
   "id": "bef7f326",
   "metadata": {},
   "outputs": [
    {
     "data": {
      "text/plain": [
       "<matplotlib.legend.Legend at 0x7f740a11d340>"
      ]
     },
     "execution_count": 68,
     "metadata": {},
     "output_type": "execute_result"
    },
    {
     "data": {
      "image/png": "[encoded data removed]",
      "text/plain": [
       "<Figure size 432x288 with 1 Axes>"
      ]
     },
     "metadata": {
      "needs_background": "light"
     },
     "output_type": "display_data"
    }
   ],
   "source": [
    "df31 = df2dz3[df2dz3.cluster==0]\n",
    "df32 = df2dz3[df2dz3.cluster==1]\n",
    "df33 = df2dz3[df2dz3.cluster==2]\n",
    "plt.scatter(df31.pothole_area,df31.area,color='black',alpha=0.4)\n",
    "plt.scatter(df32.pothole_area,df32.area,color='red',alpha=0.4)\n",
    "plt.scatter(df33.pothole_area,df33.area,color='green',alpha=0.4)\n",
    "plt.scatter(kmeans3.cluster_centers_[:,0],kmeans3.cluster_centers_[:,1],color='purple',marker='+',label='centroid')\n",
    "plt.xlabel(\"Pothole Area\")\n",
    "plt.ylabel(\"Area\")\n",
    "plt.legend()"
   ]
  },
  {
   "cell_type": "code",
   "execution_count": 69,
   "id": "1cb35ccc",
   "metadata": {},
   "outputs": [
    {
     "data": {
      "text/html": [
       "<div>\n",
       "<style scoped>\n",
       "    .dataframe tbody tr th:only-of-type {\n",
       "        vertical-align: middle;\n",
       "    }\n",
       "\n",
       "    .dataframe tbody tr th {\n",
       "        vertical-align: top;\n",
       "    }\n",
       "\n",
       "    .dataframe thead th {\n",
       "        text-align: right;\n",
       "    }\n",
       "</style>\n",
       "<table border=\"1\" class=\"dataframe\">\n",
       "  <thead>\n",
       "    <tr style=\"text-align: right;\">\n",
       "      <th></th>\n",
       "      <th>height</th>\n",
       "      <th>width</th>\n",
       "      <th>area</th>\n",
       "      <th>pothole_area</th>\n",
       "      <th>nonpothole_area</th>\n",
       "      <th>cluster</th>\n",
       "    </tr>\n",
       "  </thead>\n",
       "  <tbody>\n",
       "    <tr>\n",
       "      <th>count</th>\n",
       "      <td>930.000000</td>\n",
       "      <td>930.000000</td>\n",
       "      <td>930.000000</td>\n",
       "      <td>930.000000</td>\n",
       "      <td>930.000000</td>\n",
       "      <td>930.000000</td>\n",
       "    </tr>\n",
       "    <tr>\n",
       "      <th>mean</th>\n",
       "      <td>141.246237</td>\n",
       "      <td>160.008602</td>\n",
       "      <td>24136.586022</td>\n",
       "      <td>16398.926882</td>\n",
       "      <td>7737.659140</td>\n",
       "      <td>0.704301</td>\n",
       "    </tr>\n",
       "    <tr>\n",
       "      <th>std</th>\n",
       "      <td>61.173830</td>\n",
       "      <td>60.393898</td>\n",
       "      <td>16866.241902</td>\n",
       "      <td>11359.076938</td>\n",
       "      <td>6335.443707</td>\n",
       "      <td>0.917292</td>\n",
       "    </tr>\n",
       "    <tr>\n",
       "      <th>min</th>\n",
       "      <td>16.000000</td>\n",
       "      <td>26.000000</td>\n",
       "      <td>416.000000</td>\n",
       "      <td>297.000000</td>\n",
       "      <td>119.000000</td>\n",
       "      <td>0.000000</td>\n",
       "    </tr>\n",
       "    <tr>\n",
       "      <th>25%</th>\n",
       "      <td>93.000000</td>\n",
       "      <td>114.000000</td>\n",
       "      <td>11819.500000</td>\n",
       "      <td>7876.750000</td>\n",
       "      <td>3174.500000</td>\n",
       "      <td>0.000000</td>\n",
       "    </tr>\n",
       "    <tr>\n",
       "      <th>50%</th>\n",
       "      <td>140.500000</td>\n",
       "      <td>152.000000</td>\n",
       "      <td>20167.500000</td>\n",
       "      <td>13939.000000</td>\n",
       "      <td>6038.500000</td>\n",
       "      <td>0.000000</td>\n",
       "    </tr>\n",
       "    <tr>\n",
       "      <th>75%</th>\n",
       "      <td>185.000000</td>\n",
       "      <td>196.000000</td>\n",
       "      <td>33099.000000</td>\n",
       "      <td>22620.000000</td>\n",
       "      <td>10167.500000</td>\n",
       "      <td>2.000000</td>\n",
       "    </tr>\n",
       "    <tr>\n",
       "      <th>max</th>\n",
       "      <td>339.000000</td>\n",
       "      <td>368.000000</td>\n",
       "      <td>106107.000000</td>\n",
       "      <td>87658.000000</td>\n",
       "      <td>50293.000000</td>\n",
       "      <td>2.000000</td>\n",
       "    </tr>\n",
       "  </tbody>\n",
       "</table>\n",
       "</div>"
      ],
      "text/plain": [
       "           height       width           area  pothole_area  nonpothole_area  \\\n",
       "count  930.000000  930.000000     930.000000    930.000000       930.000000   \n",
       "mean   141.246237  160.008602   24136.586022  16398.926882      7737.659140   \n",
       "std     61.173830   60.393898   16866.241902  11359.076938      6335.443707   \n",
       "min     16.000000   26.000000     416.000000    297.000000       119.000000   \n",
       "25%     93.000000  114.000000   11819.500000   7876.750000      3174.500000   \n",
       "50%    140.500000  152.000000   20167.500000  13939.000000      6038.500000   \n",
       "75%    185.000000  196.000000   33099.000000  22620.000000     10167.500000   \n",
       "max    339.000000  368.000000  106107.000000  87658.000000     50293.000000   \n",
       "\n",
       "          cluster  \n",
       "count  930.000000  \n",
       "mean     0.704301  \n",
       "std      0.917292  \n",
       "min      0.000000  \n",
       "25%      0.000000  \n",
       "50%      0.000000  \n",
       "75%      2.000000  \n",
       "max      2.000000  "
      ]
     },
     "execution_count": 69,
     "metadata": {},
     "output_type": "execute_result"
    }
   ],
   "source": [
    "dfz3.describe()"
   ]
  },
  {
   "cell_type": "code",
   "execution_count": 70,
   "id": "65537fda-8e1a-4a18-b24e-8b4c278ed6e8",
   "metadata": {},
   "outputs": [
    {
     "data": {
      "text/html": [
       "<div>\n",
       "<style scoped>\n",
       "    .dataframe tbody tr th:only-of-type {\n",
       "        vertical-align: middle;\n",
       "    }\n",
       "\n",
       "    .dataframe tbody tr th {\n",
       "        vertical-align: top;\n",
       "    }\n",
       "\n",
       "    .dataframe thead th {\n",
       "        text-align: right;\n",
       "    }\n",
       "</style>\n",
       "<table border=\"1\" class=\"dataframe\">\n",
       "  <thead>\n",
       "    <tr style=\"text-align: right;\">\n",
       "      <th></th>\n",
       "      <th>height</th>\n",
       "      <th>width</th>\n",
       "      <th>area</th>\n",
       "      <th>pothole_area</th>\n",
       "      <th>nonpothole_area</th>\n",
       "    </tr>\n",
       "  </thead>\n",
       "  <tbody>\n",
       "    <tr>\n",
       "      <th>0</th>\n",
       "      <td>225</td>\n",
       "      <td>290</td>\n",
       "      <td>65250</td>\n",
       "      <td>39803</td>\n",
       "      <td>25447</td>\n",
       "    </tr>\n",
       "    <tr>\n",
       "      <th>1</th>\n",
       "      <td>222</td>\n",
       "      <td>301</td>\n",
       "      <td>66822</td>\n",
       "      <td>41166</td>\n",
       "      <td>25656</td>\n",
       "    </tr>\n",
       "    <tr>\n",
       "      <th>2</th>\n",
       "      <td>209</td>\n",
       "      <td>317</td>\n",
       "      <td>66253</td>\n",
       "      <td>39794</td>\n",
       "      <td>26459</td>\n",
       "    </tr>\n",
       "    <tr>\n",
       "      <th>3</th>\n",
       "      <td>210</td>\n",
       "      <td>300</td>\n",
       "      <td>63000</td>\n",
       "      <td>38570</td>\n",
       "      <td>24430</td>\n",
       "    </tr>\n",
       "    <tr>\n",
       "      <th>4</th>\n",
       "      <td>185</td>\n",
       "      <td>282</td>\n",
       "      <td>52170</td>\n",
       "      <td>32183</td>\n",
       "      <td>19987</td>\n",
       "    </tr>\n",
       "  </tbody>\n",
       "</table>\n",
       "</div>"
      ],
      "text/plain": [
       "   height  width   area  pothole_area  nonpothole_area\n",
       "0     225    290  65250         39803            25447\n",
       "1     222    301  66822         41166            25656\n",
       "2     209    317  66253         39794            26459\n",
       "3     210    300  63000         38570            24430\n",
       "4     185    282  52170         32183            19987"
      ]
     },
     "execution_count": 70,
     "metadata": {},
     "output_type": "execute_result"
    }
   ],
   "source": [
    "dfz3.drop([\"cluster\"],inplace=True, axis=1)\n",
    "dfz3.head()"
   ]
  },
  {
   "cell_type": "code",
   "execution_count": 71,
   "id": "119f8bd9-8bb1-4fe2-a3f7-a599539a5965",
   "metadata": {},
   "outputs": [
    {
     "data": {
      "text/html": [
       "<div>\n",
       "<style scoped>\n",
       "    .dataframe tbody tr th:only-of-type {\n",
       "        vertical-align: middle;\n",
       "    }\n",
       "\n",
       "    .dataframe tbody tr th {\n",
       "        vertical-align: top;\n",
       "    }\n",
       "\n",
       "    .dataframe thead th {\n",
       "        text-align: right;\n",
       "    }\n",
       "</style>\n",
       "<table border=\"1\" class=\"dataframe\">\n",
       "  <thead>\n",
       "    <tr style=\"text-align: right;\">\n",
       "      <th></th>\n",
       "      <th>height</th>\n",
       "      <th>width</th>\n",
       "      <th>area</th>\n",
       "      <th>pothole_area</th>\n",
       "      <th>nonpothole_area</th>\n",
       "      <th>cluster</th>\n",
       "    </tr>\n",
       "  </thead>\n",
       "  <tbody>\n",
       "    <tr>\n",
       "      <th>0</th>\n",
       "      <td>225</td>\n",
       "      <td>290</td>\n",
       "      <td>65250</td>\n",
       "      <td>39803</td>\n",
       "      <td>25447</td>\n",
       "      <td>4</td>\n",
       "    </tr>\n",
       "    <tr>\n",
       "      <th>1</th>\n",
       "      <td>222</td>\n",
       "      <td>301</td>\n",
       "      <td>66822</td>\n",
       "      <td>41166</td>\n",
       "      <td>25656</td>\n",
       "      <td>4</td>\n",
       "    </tr>\n",
       "    <tr>\n",
       "      <th>2</th>\n",
       "      <td>209</td>\n",
       "      <td>317</td>\n",
       "      <td>66253</td>\n",
       "      <td>39794</td>\n",
       "      <td>26459</td>\n",
       "      <td>4</td>\n",
       "    </tr>\n",
       "    <tr>\n",
       "      <th>3</th>\n",
       "      <td>210</td>\n",
       "      <td>300</td>\n",
       "      <td>63000</td>\n",
       "      <td>38570</td>\n",
       "      <td>24430</td>\n",
       "      <td>4</td>\n",
       "    </tr>\n",
       "    <tr>\n",
       "      <th>4</th>\n",
       "      <td>185</td>\n",
       "      <td>282</td>\n",
       "      <td>52170</td>\n",
       "      <td>32183</td>\n",
       "      <td>19987</td>\n",
       "      <td>4</td>\n",
       "    </tr>\n",
       "  </tbody>\n",
       "</table>\n",
       "</div>"
      ],
      "text/plain": [
       "   height  width   area  pothole_area  nonpothole_area  cluster\n",
       "0     225    290  65250         39803            25447        4\n",
       "1     222    301  66822         41166            25656        4\n",
       "2     209    317  66253         39794            26459        4\n",
       "3     210    300  63000         38570            24430        4\n",
       "4     185    282  52170         32183            19987        4"
      ]
     },
     "execution_count": 71,
     "metadata": {},
     "output_type": "execute_result"
    }
   ],
   "source": [
    "dfz3[\"cluster\"] = np.where(\n",
    "    dfz3['pothole_area'] <7800, 1,\n",
    "        np.where(dfz3['pothole_area'] <14000, 2,\n",
    "            np.where(dfz3['pothole_area'] <22000,3,\n",
    "                4)))\n",
    "\n",
    "dfz3.head()"
   ]
  },
  {
   "cell_type": "code",
   "execution_count": 72,
   "id": "5d32fdff-efb5-4412-a793-6da2a1946dcc",
   "metadata": {},
   "outputs": [],
   "source": [
    "x3 = dfz3.iloc[:,:-1].values\n",
    "y3 = dfz3.iloc[:,-1]\n",
    "\n",
    "x_train3, x_test3, y_train3, y_test3 = train_test_split(x3, y3, test_size = 0.4, random_state = 1)"
   ]
  },
  {
   "cell_type": "code",
   "execution_count": 73,
   "id": "79abd720-d2ed-4cee-9c27-9d3c509ae714",
   "metadata": {},
   "outputs": [
    {
     "name": "stderr",
     "output_type": "stream",
     "text": [
      "/home/gufran/anaconda3/lib/python3.9/site-packages/sklearn/linear_model/_logistic.py:763: ConvergenceWarning: lbfgs failed to converge (status=1):\n",
      "STOP: TOTAL NO. of ITERATIONS REACHED LIMIT.\n",
      "\n",
      "Increase the number of iterations (max_iter) or scale the data as shown in:\n",
      "    https://scikit-learn.org/stable/modules/preprocessing.html\n",
      "Please also refer to the documentation for alternative solver options:\n",
      "    https://scikit-learn.org/stable/modules/linear_model.html#logistic-regression\n",
      "  n_iter_i = _check_optimize_result(\n"
     ]
    },
    {
     "data": {
      "text/plain": [
       "RandomForestClassifier(criterion='entropy', n_estimators=10)"
      ]
     },
     "execution_count": 73,
     "metadata": {},
     "output_type": "execute_result"
    }
   ],
   "source": [
    "lr_classifier3 = LogisticRegression()\n",
    "knn_classifier3 = KNeighborsClassifier(n_neighbors = 5,p=2,metric = \"minkowski\")\n",
    "svm_classifier3 = SVC(kernel = 'linear')\n",
    "k_svm_classifier3 = SVC(kernel = 'rbf')\n",
    "nb_classifier3 = GaussianNB()\n",
    "dt_classifier3 = DecisionTreeClassifier(criterion = 'entropy')\n",
    "rf_classifier3 = RandomForestClassifier(n_estimators = 10, criterion = 'entropy')\n",
    "\n",
    "lr_classifier3.fit(x_train3, y_train3)\n",
    "knn_classifier3.fit(x_train3, y_train3)\n",
    "svm_classifier3.fit(x_train3, y_train3)\n",
    "k_svm_classifier3.fit(x_train3, y_train3)\n",
    "nb_classifier3.fit(x_train3, y_train3)\n",
    "dt_classifier3.fit(x_train3, y_train3)\n",
    "rf_classifier3.fit(x_train3, y_train3)"
   ]
  },
  {
   "cell_type": "code",
   "execution_count": 74,
   "id": "ff7adbb0-d6d0-4e73-acfd-67cee778b8d4",
   "metadata": {},
   "outputs": [
    {
     "name": "stdout",
     "output_type": "stream",
     "text": [
      "Logistic Regression =  0.8575268817204301\n",
      "K-Nearest Neighbors =  0.9489247311827957\n",
      "Linear Support Vector Machine =  0.989247311827957\n",
      "RBF Kernel Support Vector Machine =  0.9220430107526881\n",
      "Naive Bayes =  0.8682795698924731\n",
      "Decision Tree =  0.9973118279569892\n",
      "Random Forest =  0.9865591397849462\n"
     ]
    }
   ],
   "source": [
    "y_pred31 = lr_classifier3.predict(x_test3)\n",
    "y_pred32 = knn_classifier3.predict(x_test3)\n",
    "y_pred33 = svm_classifier3.predict(x_test3)\n",
    "y_pred34 = k_svm_classifier3.predict(x_test3)\n",
    "y_pred35 = nb_classifier3.predict(x_test3)\n",
    "y_pred36 = dt_classifier3.predict(x_test3)\n",
    "y_pred37 = rf_classifier3.predict(x_test3)\n",
    "\n",
    "print('Logistic Regression = ', accuracy_score(y_test3, y_pred31))\n",
    "print('K-Nearest Neighbors = ', accuracy_score(y_test3, y_pred32))\n",
    "print('Linear Support Vector Machine = ', accuracy_score(y_test3, y_pred33))\n",
    "print('RBF Kernel Support Vector Machine = ', accuracy_score(y_test3, y_pred34))\n",
    "print('Naive Bayes = ', accuracy_score(y_test3, y_pred35))\n",
    "print('Decision Tree = ', accuracy_score(y_test3, y_pred36))\n",
    "print('Random Forest = ', accuracy_score(y_test3, y_pred37))"
   ]
  }
 ],
 "metadata": {
  "kernelspec": {
   "display_name": "Python 3 (ipykernel)",
   "language": "python",
   "name": "python3"
  },
  "language_info": {
   "codemirror_mode": {
    "name": "ipython",
    "version": 3
   },
   "file_extension": ".py",
   "mimetype": "text/x-python",
   "name": "python",
   "nbconvert_exporter": "python",
   "pygments_lexer": "ipython3",
   "version": "3.10.6"
  }
 },
 "nbformat": 4,
 "nbformat_minor": 5
}
