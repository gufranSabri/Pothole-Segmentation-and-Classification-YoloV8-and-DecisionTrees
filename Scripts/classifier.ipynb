{
 "cells": [
  {
   "cell_type": "code",
   "execution_count": 1,
   "id": "4c231a72",
   "metadata": {},
   "outputs": [],
   "source": [
    "import numpy as np\n",
    "import pandas as pd\n",
    "import matplotlib.pyplot as plt\n",
    "\n",
    "from sklearn.impute import SimpleImputer\n",
    "from sklearn.compose import ColumnTransformer\n",
    "from sklearn.preprocessing import OneHotEncoder\n",
    "from sklearn.preprocessing import LabelEncoder\n",
    "from sklearn.model_selection import train_test_split\n",
    "from sklearn.preprocessing import StandardScaler\n",
    "\n",
    "from sklearn.linear_model import LinearRegression\n",
    "from sklearn.preprocessing import PolynomialFeatures\n",
    "from sklearn.svm import SVR\n",
    "from sklearn.tree import DecisionTreeRegressor\n",
    "from sklearn.ensemble import RandomForestRegressor\n",
    "\n",
    "from sklearn.linear_model import LogisticRegression\n",
    "from sklearn.neighbors import KNeighborsClassifier\n",
    "from sklearn.svm import SVC\n",
    "from sklearn.naive_bayes import GaussianNB\n",
    "from sklearn.tree import DecisionTreeClassifier\n",
    "from sklearn.ensemble import RandomForestClassifier\n",
    "\n",
    "from sklearn.cluster import KMeans\n",
    "\n",
    "from sklearn.metrics import accuracy_score, confusion_matrix \n",
    "from sklearn.metrics import r2_score\n",
    "import itertools\n",
    "\n",
    "%matplotlib inline"
   ]
  },
  {
   "cell_type": "code",
   "execution_count": 2,
   "id": "05a3eb1b",
   "metadata": {},
   "outputs": [],
   "source": [
    "PATH = \"/media/gufran/GsHDD/Work/Projects/AI/PotholeSeverityClassification/Data/ClassificationData/\""
   ]
  },
  {
   "cell_type": "code",
   "execution_count": 3,
   "id": "5d131d60",
   "metadata": {},
   "outputs": [],
   "source": [
    "dfz2 = pd.read_csv(PATH+'/dataz2.csv')\n",
    "dfz3 = pd.read_csv(PATH+'/dataz3.csv')\n",
    "\n",
    "dfz2.drop(['imgpath'], axis=1, inplace=True)\n",
    "dfz3.drop(['imgpath'], axis=1, inplace=True)"
   ]
  },
  {
   "cell_type": "code",
   "execution_count": 4,
   "id": "5b2cc91b",
   "metadata": {},
   "outputs": [
    {
     "data": {
      "text/html": [
       "<div>\n",
       "<style scoped>\n",
       "    .dataframe tbody tr th:only-of-type {\n",
       "        vertical-align: middle;\n",
       "    }\n",
       "\n",
       "    .dataframe tbody tr th {\n",
       "        vertical-align: top;\n",
       "    }\n",
       "\n",
       "    .dataframe thead th {\n",
       "        text-align: right;\n",
       "    }\n",
       "</style>\n",
       "<table border=\"1\" class=\"dataframe\">\n",
       "  <thead>\n",
       "    <tr style=\"text-align: right;\">\n",
       "      <th></th>\n",
       "      <th>height</th>\n",
       "      <th>width</th>\n",
       "      <th>area</th>\n",
       "      <th>pothole_area</th>\n",
       "      <th>nonpothole_area</th>\n",
       "    </tr>\n",
       "  </thead>\n",
       "  <tbody>\n",
       "    <tr>\n",
       "      <th>0</th>\n",
       "      <td>225</td>\n",
       "      <td>290</td>\n",
       "      <td>65250</td>\n",
       "      <td>39803</td>\n",
       "      <td>25447</td>\n",
       "    </tr>\n",
       "    <tr>\n",
       "      <th>1</th>\n",
       "      <td>222</td>\n",
       "      <td>301</td>\n",
       "      <td>66822</td>\n",
       "      <td>41166</td>\n",
       "      <td>25656</td>\n",
       "    </tr>\n",
       "    <tr>\n",
       "      <th>2</th>\n",
       "      <td>209</td>\n",
       "      <td>317</td>\n",
       "      <td>66253</td>\n",
       "      <td>39794</td>\n",
       "      <td>26459</td>\n",
       "    </tr>\n",
       "    <tr>\n",
       "      <th>3</th>\n",
       "      <td>210</td>\n",
       "      <td>300</td>\n",
       "      <td>63000</td>\n",
       "      <td>38570</td>\n",
       "      <td>24430</td>\n",
       "    </tr>\n",
       "    <tr>\n",
       "      <th>4</th>\n",
       "      <td>185</td>\n",
       "      <td>282</td>\n",
       "      <td>52170</td>\n",
       "      <td>32183</td>\n",
       "      <td>19987</td>\n",
       "    </tr>\n",
       "  </tbody>\n",
       "</table>\n",
       "</div>"
      ],
      "text/plain": [
       "   height  width   area  pothole_area  nonpothole_area\n",
       "0     225    290  65250         39803            25447\n",
       "1     222    301  66822         41166            25656\n",
       "2     209    317  66253         39794            26459\n",
       "3     210    300  63000         38570            24430\n",
       "4     185    282  52170         32183            19987"
      ]
     },
     "execution_count": 4,
     "metadata": {},
     "output_type": "execute_result"
    }
   ],
   "source": [
    "dfz3.head()"
   ]
  },
  {
   "cell_type": "code",
   "execution_count": 5,
   "id": "db698328-6a45-4f51-8c64-c8983e49a7bc",
   "metadata": {},
   "outputs": [],
   "source": [
    "x2 = dfz2.iloc[:,1:]\n",
    "x3 = dfz3.iloc[:,1:]"
   ]
  },
  {
   "cell_type": "markdown",
   "id": "942a2f5a-71a1-40e0-9253-4be7d56fcd45",
   "metadata": {},
   "source": [
    "### Elbow method"
   ]
  },
  {
   "cell_type": "code",
   "execution_count": 6,
   "id": "e4e50f19",
   "metadata": {},
   "outputs": [
    {
     "data": {
      "text/plain": [
       "[<matplotlib.lines.Line2D at 0x7f52d31971c0>]"
      ]
     },
     "execution_count": 6,
     "metadata": {},
     "output_type": "execute_result"
    },
    {
     "data": {
      "image/png": "[encoded data removed]",
      "text/plain": [
       "<Figure size 432x288 with 1 Axes>"
      ]
     },
     "metadata": {
      "needs_background": "light"
     },
     "output_type": "display_data"
    }
   ],
   "source": [
    "sse = []\n",
    "k_rng = range(1,10)\n",
    "for k in k_rng:\n",
    "    km = KMeans(n_clusters=k)\n",
    "    km.fit(dfz3)\n",
    "    sse.append(km.inertia_)\n",
    "    \n",
    "plt.xlabel('K')\n",
    "plt.ylabel('Sum of squared error')\n",
    "plt.plot(k_rng,sse)"
   ]
  },
  {
   "cell_type": "markdown",
   "id": "d3d04ba8-fa4d-45ea-80eb-7f5f5d0fb65a",
   "metadata": {},
   "source": [
    "### Clustering"
   ]
  },
  {
   "cell_type": "code",
   "execution_count": 7,
   "id": "4d5612d9-4628-4d80-90da-88506be7333d",
   "metadata": {},
   "outputs": [],
   "source": [
    "kmeans2 = KMeans(n_clusters = 3, init = 'k-means++')\n",
    "classes2 = kmeans2.fit_predict(x2)\n",
    "\n",
    "kmeans3 = KMeans(n_clusters = 3, init = 'k-means++')\n",
    "classes3 = kmeans3.fit_predict(x3)"
   ]
  },
  {
   "cell_type": "code",
   "execution_count": 8,
   "id": "0ef79b5f-66f3-42fa-9a24-af95dcf8b700",
   "metadata": {},
   "outputs": [],
   "source": [
    "dfz2[\"cluster\"] = kmeans2.fit_predict(dfz2)\n",
    "dfz3[\"cluster\"] = kmeans2.fit_predict(dfz3)"
   ]
  },
  {
   "cell_type": "code",
   "execution_count": 9,
   "id": "4963df77-5cfa-4794-b43c-6d5bd804c60c",
   "metadata": {},
   "outputs": [],
   "source": [
    "x2 = dfz2.iloc[:,:-1].values\n",
    "y2 = dfz2.iloc[:,-1]\n",
    "\n",
    "x3 = dfz3.iloc[:,:-1].values\n",
    "y3 = dfz3.iloc[:,-1]"
   ]
  },
  {
   "cell_type": "code",
   "execution_count": 10,
   "id": "83c27ca6-6597-4a2a-9b0b-7f36c9e92087",
   "metadata": {},
   "outputs": [],
   "source": [
    "x_train2, x_test2, y_train2, y_test2 = train_test_split(x2, y2, test_size = 0.4, random_state = 1)\n",
    "x_train3, x_test3, y_train3, y_test3 = train_test_split(x3, y3, test_size = 0.4, random_state = 1)"
   ]
  },
  {
   "cell_type": "code",
   "execution_count": 11,
   "id": "3b8215e7-1e4e-4b00-ac45-7d8e655a210b",
   "metadata": {},
   "outputs": [
    {
     "name": "stdout",
     "output_type": "stream",
     "text": [
      "(685, 5)\n",
      "(458, 5)\n",
      "(685,)\n",
      "(458,)\n",
      "\n",
      "(558, 5)\n",
      "(372, 5)\n",
      "(558,)\n",
      "(372,)\n"
     ]
    }
   ],
   "source": [
    "print(x_train2.shape)\n",
    "print(x_test2.shape)\n",
    "print(y_train2.shape)\n",
    "print(y_test2.shape)\n",
    "print()\n",
    "print(x_train3.shape)\n",
    "print(x_test3.shape)\n",
    "print(y_train3.shape)\n",
    "print(y_test3.shape)"
   ]
  },
  {
   "cell_type": "code",
   "execution_count": 12,
   "id": "a279d607-bbeb-4e15-81cc-4be0b4615bed",
   "metadata": {},
   "outputs": [],
   "source": [
    "sc = StandardScaler()\n",
    "x_train2 = sc.fit_transform(x_train2)\n",
    "x_test2 = sc.transform(x_test2)\n",
    "\n",
    "x_train3 = sc.fit_transform(x_train3)\n",
    "x_test3 = sc.transform(x_test3)"
   ]
  },
  {
   "cell_type": "code",
   "execution_count": 13,
   "id": "0aabd619-b703-4727-ac0a-4dd58d958ed1",
   "metadata": {},
   "outputs": [],
   "source": [
    "def plot_confusion_matrix(cm, classes,normalize=False,title='Confusion matrix',cmap=plt.cm.Blues):\n",
    "    plt.imshow(cm, interpolation='nearest', cmap=cmap)\n",
    "    plt.title(title)\n",
    "    plt.colorbar()\n",
    "    tick_marks = np.arange(len(classes))\n",
    "    plt.xticks(tick_marks, classes, rotation=45)\n",
    "    plt.yticks(tick_marks, classes)\n",
    "\n",
    "    if normalize:\n",
    "        cm = cm.astype('float') / cm.sum(axis=1)[:, np.newaxis]\n",
    "        print(\"Normalized confusion matrix\")\n",
    "    else:\n",
    "        print('Confusion matrix, without normalization')\n",
    "\n",
    "    print(cm)\n",
    "\n",
    "    thresh = cm.max() / 2.\n",
    "    for i, j in itertools.product(range(cm.shape[0]), range(cm.shape[1])):\n",
    "        plt.text(j, i, cm[i, j],\n",
    "            horizontalalignment=\"center\",\n",
    "            color=\"white\" if cm[i, j] > thresh else \"black\")"
   ]
  },
  {
   "cell_type": "markdown",
   "id": "cdafd971-5430-42af-a690-14d623023d94",
   "metadata": {},
   "source": [
    "### Building classifier based on KMeans clustering"
   ]
  },
  {
   "cell_type": "code",
   "execution_count": 14,
   "id": "6fde0cc7-33aa-47b0-916d-504470f70a00",
   "metadata": {},
   "outputs": [
    {
     "data": {
      "text/plain": [
       "RandomForestClassifier(criterion='entropy', n_estimators=10)"
      ]
     },
     "execution_count": 14,
     "metadata": {},
     "output_type": "execute_result"
    }
   ],
   "source": [
    "lr_classifier2 = LogisticRegression()\n",
    "knn_classifier2 = KNeighborsClassifier(n_neighbors = 5,p=2,metric = \"minkowski\")\n",
    "svm_classifier2 = SVC(kernel = 'linear')\n",
    "k_svm_classifier2 = SVC(kernel = 'rbf')\n",
    "nb_classifier2 = GaussianNB()\n",
    "dt_classifier2 = DecisionTreeClassifier(criterion = 'entropy')\n",
    "rf_classifier2 = RandomForestClassifier(n_estimators = 10, criterion = 'entropy')\n",
    "\n",
    "lr_classifier2.fit(x_train2, y_train2)\n",
    "knn_classifier2.fit(x_train2, y_train2)\n",
    "svm_classifier2.fit(x_train2, y_train2)\n",
    "k_svm_classifier2.fit(x_train2, y_train2)\n",
    "nb_classifier2.fit(x_train2, y_train2)\n",
    "dt_classifier2.fit(x_train2, y_train2)\n",
    "rf_classifier2.fit(x_train2, y_train2)"
   ]
  },
  {
   "cell_type": "code",
   "execution_count": 15,
   "id": "16da68ea-1d22-4307-9d55-f649895da237",
   "metadata": {},
   "outputs": [
    {
     "name": "stdout",
     "output_type": "stream",
     "text": [
      "Logistic Regression Z2\n",
      "Confusion matrix, without normalization\n",
      "[[178   1   0]\n",
      " [  3 264   0]\n",
      " [  1   0  11]]\n",
      "Accuracy =  0.9890829694323144\n"
     ]
    },
    {
     "data": {
      "image/png": "[encoded data removed]",
      "text/plain": [
       "<Figure size 432x288 with 2 Axes>"
      ]
     },
     "metadata": {
      "needs_background": "light"
     },
     "output_type": "display_data"
    }
   ],
   "source": [
    "print(\"Logistic Regression Z2\")\n",
    "y_pred21 = lr_classifier2.predict(x_test2)\n",
    "\n",
    "cm = confusion_matrix(y_test2, y_pred21)\n",
    "labels = ['0', '1', '2']\n",
    "\n",
    "plot_confusion_matrix(cm, classes = labels)\n",
    "\n",
    "print('Accuracy = ', accuracy_score(y_test2, y_pred21))"
   ]
  },
  {
   "cell_type": "code",
   "execution_count": 16,
   "id": "6ac8ddbe-b618-4e11-a070-b01c73a1ee77",
   "metadata": {},
   "outputs": [
    {
     "name": "stdout",
     "output_type": "stream",
     "text": [
      "KNN Z2\n",
      "Confusion matrix, without normalization\n",
      "[[177   2   0]\n",
      " [  3 264   0]\n",
      " [  3   0   9]]\n",
      "Accuracy =  0.982532751091703\n"
     ]
    },
    {
     "data": {
      "image/png": "[encoded data removed]",
      "text/plain": [
       "<Figure size 432x288 with 2 Axes>"
      ]
     },
     "metadata": {
      "needs_background": "light"
     },
     "output_type": "display_data"
    }
   ],
   "source": [
    "print(\"KNN Z2\")\n",
    "y_pred22 = knn_classifier2.predict(x_test2)\n",
    "\n",
    "cm = confusion_matrix(y_test2, y_pred22)\n",
    "labels = ['0', '1', '2']\n",
    "\n",
    "plot_confusion_matrix(cm, classes = labels)\n",
    "\n",
    "print('Accuracy = ', accuracy_score(y_test2, y_pred22))"
   ]
  },
  {
   "cell_type": "code",
   "execution_count": 17,
   "id": "fca7cf29-34c3-4349-b311-20962d8a66ae",
   "metadata": {},
   "outputs": [
    {
     "name": "stdout",
     "output_type": "stream",
     "text": [
      "SVM Z2\n",
      "Confusion matrix, without normalization\n",
      "[[177   2   0]\n",
      " [  3 264   0]\n",
      " [  3   0   9]]\n",
      "Accuracy =  0.982532751091703\n"
     ]
    },
    {
     "data": {
      "image/png": "[encoded data removed]",
      "text/plain": [
       "<Figure size 432x288 with 2 Axes>"
      ]
     },
     "metadata": {
      "needs_background": "light"
     },
     "output_type": "display_data"
    }
   ],
   "source": [
    "print(\"SVM Z2\")\n",
    "y_pred23 = knn_classifier2.predict(x_test2)\n",
    "\n",
    "cm = confusion_matrix(y_test2, y_pred23)\n",
    "labels = ['0', '1', '2']\n",
    "\n",
    "plot_confusion_matrix(cm, classes = labels)\n",
    "\n",
    "print('Accuracy = ', accuracy_score(y_test2, y_pred23))"
   ]
  },
  {
   "cell_type": "code",
   "execution_count": 18,
   "id": "a9f2bad3-d322-4ae6-9a0b-63e4c8a095b9",
   "metadata": {},
   "outputs": [
    {
     "name": "stdout",
     "output_type": "stream",
     "text": [
      "RBF-SVM Z2\n",
      "Confusion matrix, without normalization\n",
      "[[179   0   0]\n",
      " [  4 263   0]\n",
      " [  2   0  10]]\n",
      "Accuracy =  0.9868995633187773\n"
     ]
    },
    {
     "data": {
      "image/png": "[encoded data removed]",
      "text/plain": [
       "<Figure size 432x288 with 2 Axes>"
      ]
     },
     "metadata": {
      "needs_background": "light"
     },
     "output_type": "display_data"
    }
   ],
   "source": [
    "print(\"RBF-SVM Z2\")\n",
    "y_pred24 = k_svm_classifier2.predict(x_test2)\n",
    "\n",
    "cm = confusion_matrix(y_test2, y_pred24)\n",
    "labels = ['0', '1', '2']\n",
    "\n",
    "plot_confusion_matrix(cm, classes = labels)\n",
    "\n",
    "print('Accuracy = ', accuracy_score(y_test2, y_pred24))"
   ]
  },
  {
   "cell_type": "code",
   "execution_count": 19,
   "id": "532d9189-87c6-4fec-9507-305b2b50f0c0",
   "metadata": {},
   "outputs": [
    {
     "name": "stdout",
     "output_type": "stream",
     "text": [
      "Naive Bayes Z2\n",
      "Confusion matrix, without normalization\n",
      "[[174   0   5]\n",
      " [ 12 255   0]\n",
      " [  0   0  12]]\n",
      "Accuracy =  0.962882096069869\n"
     ]
    },
    {
     "data": {
      "image/png": "[encoded data removed]",
      "text/plain": [
       "<Figure size 432x288 with 2 Axes>"
      ]
     },
     "metadata": {
      "needs_background": "light"
     },
     "output_type": "display_data"
    }
   ],
   "source": [
    "print(\"Naive Bayes Z2\")\n",
    "y_pred25 = nb_classifier2.predict(x_test2)\n",
    "\n",
    "cm = confusion_matrix(y_test2, y_pred25)\n",
    "labels = ['0', '1', '2']\n",
    "\n",
    "plot_confusion_matrix(cm, classes = labels)\n",
    "\n",
    "print('Accuracy = ', accuracy_score(y_test2, y_pred25))"
   ]
  },
  {
   "cell_type": "code",
   "execution_count": 20,
   "id": "e9011137-bcb2-49ca-93fa-68356317c89a",
   "metadata": {},
   "outputs": [
    {
     "name": "stdout",
     "output_type": "stream",
     "text": [
      "Decision Tree Z2\n",
      "Confusion matrix, without normalization\n",
      "[[179   0   0]\n",
      " [  2 265   0]\n",
      " [  0   0  12]]\n",
      "Accuracy =  0.9956331877729258\n"
     ]
    },
    {
     "data": {
      "image/png": "[encoded data removed]",
      "text/plain": [
       "<Figure size 432x288 with 2 Axes>"
      ]
     },
     "metadata": {
      "needs_background": "light"
     },
     "output_type": "display_data"
    }
   ],
   "source": [
    "print(\"Decision Tree Z2\")\n",
    "y_pred26 = dt_classifier2.predict(x_test2)\n",
    "\n",
    "cm = confusion_matrix(y_test2, y_pred26)\n",
    "labels = ['0', '1', '2']\n",
    "\n",
    "plot_confusion_matrix(cm, classes = labels)\n",
    "\n",
    "print('Accuracy = ', accuracy_score(y_test2, y_pred26))"
   ]
  },
  {
   "cell_type": "code",
   "execution_count": 21,
   "id": "d7a2ed3a-2cbb-44b8-a536-321f3f742dcc",
   "metadata": {},
   "outputs": [
    {
     "name": "stdout",
     "output_type": "stream",
     "text": [
      "Random Forest Z2\n",
      "Confusion matrix, without normalization\n",
      "[[179   0   0]\n",
      " [  1 266   0]\n",
      " [  0   0  12]]\n",
      "Accuracy =  0.9978165938864629\n"
     ]
    },
    {
     "data": {
      "image/png": "[encoded data removed]",
      "text/plain": [
       "<Figure size 432x288 with 2 Axes>"
      ]
     },
     "metadata": {
      "needs_background": "light"
     },
     "output_type": "display_data"
    }
   ],
   "source": [
    "print(\"Random Forest Z2\")\n",
    "y_pred27 = rf_classifier2.predict(x_test2)\n",
    "\n",
    "cm = confusion_matrix(y_test2, y_pred27)\n",
    "labels = ['0', '1', '2']\n",
    "\n",
    "plot_confusion_matrix(cm, classes = labels)\n",
    "\n",
    "print('Accuracy = ', accuracy_score(y_test2, y_pred27))"
   ]
  },
  {
   "cell_type": "code",
   "execution_count": 22,
   "id": "9d97c51f-a931-4adc-a12e-be255f337c0c",
   "metadata": {},
   "outputs": [
    {
     "data": {
      "text/plain": [
       "RandomForestClassifier(criterion='entropy', n_estimators=10)"
      ]
     },
     "execution_count": 22,
     "metadata": {},
     "output_type": "execute_result"
    }
   ],
   "source": [
    "lr_classifier3 = LogisticRegression()\n",
    "knn_classifier3 = KNeighborsClassifier(n_neighbors = 5,p=2,metric = \"minkowski\")\n",
    "svm_classifier3 = SVC(kernel = 'linear')\n",
    "k_svm_classifier3 = SVC(kernel = 'rbf')\n",
    "nb_classifier3 = GaussianNB()\n",
    "dt_classifier3 = DecisionTreeClassifier(criterion = 'entropy')\n",
    "rf_classifier3 = RandomForestClassifier(n_estimators = 10, criterion = 'entropy')\n",
    "\n",
    "lr_classifier3.fit(x_train3, y_train3)\n",
    "knn_classifier3.fit(x_train3, y_train3)\n",
    "svm_classifier3.fit(x_train3, y_train3)\n",
    "k_svm_classifier3.fit(x_train3, y_train3)\n",
    "nb_classifier3.fit(x_train3, y_train3)\n",
    "dt_classifier3.fit(x_train3, y_train3)\n",
    "rf_classifier3.fit(x_train3, y_train3)"
   ]
  },
  {
   "cell_type": "code",
   "execution_count": 23,
   "id": "f6e7fe68-f552-49d9-a824-8e85c2190c6c",
   "metadata": {},
   "outputs": [
    {
     "name": "stdout",
     "output_type": "stream",
     "text": [
      "Logistic Regression Z3\n",
      "Confusion matrix, without normalization\n",
      "[[113   5   1]\n",
      " [  1 225   0]\n",
      " [  2   0  25]]\n",
      "Accuracy =  0.9758064516129032\n"
     ]
    },
    {
     "data": {
      "image/png": "[encoded data removed]",
      "text/plain": [
       "<Figure size 432x288 with 2 Axes>"
      ]
     },
     "metadata": {
      "needs_background": "light"
     },
     "output_type": "display_data"
    }
   ],
   "source": [
    "print(\"Logistic Regression Z3\")\n",
    "y_pred31 = lr_classifier3.predict(x_test3)\n",
    "\n",
    "cm = confusion_matrix(y_test3, y_pred31)\n",
    "labels = ['0', '1', '2']\n",
    "\n",
    "plot_confusion_matrix(cm, classes = labels)\n",
    "\n",
    "print('Accuracy = ', accuracy_score(y_test3, y_pred31))"
   ]
  },
  {
   "cell_type": "code",
   "execution_count": 24,
   "id": "a81360cd-23c5-46d6-b979-4586e7427d80",
   "metadata": {},
   "outputs": [
    {
     "name": "stdout",
     "output_type": "stream",
     "text": [
      "KNN Z3\n",
      "Confusion matrix, without normalization\n",
      "[[114   4   1]\n",
      " [  1 225   0]\n",
      " [  2   0  25]]\n",
      "Accuracy =  0.978494623655914\n"
     ]
    },
    {
     "data": {
      "image/png": "[encoded data removed]",
      "text/plain": [
       "<Figure size 432x288 with 2 Axes>"
      ]
     },
     "metadata": {
      "needs_background": "light"
     },
     "output_type": "display_data"
    }
   ],
   "source": [
    "print(\"KNN Z3\")\n",
    "y_pred32 = knn_classifier3.predict(x_test3)\n",
    "\n",
    "cm = confusion_matrix(y_test3, y_pred32)\n",
    "labels = ['0', '1', '2']\n",
    "\n",
    "plot_confusion_matrix(cm, classes = labels)\n",
    "\n",
    "print('Accuracy = ', accuracy_score(y_test3, y_pred32))"
   ]
  },
  {
   "cell_type": "code",
   "execution_count": 25,
   "id": "28bfff87-3d1b-4567-9c37-c7d093421ab9",
   "metadata": {},
   "outputs": [
    {
     "name": "stdout",
     "output_type": "stream",
     "text": [
      "SVM Z3\n",
      "Confusion matrix, without normalization\n",
      "[[114   4   1]\n",
      " [  1 225   0]\n",
      " [  2   0  25]]\n",
      "Accuracy =  0.978494623655914\n"
     ]
    },
    {
     "data": {
      "image/png": "[encoded data removed]",
      "text/plain": [
       "<Figure size 432x288 with 2 Axes>"
      ]
     },
     "metadata": {
      "needs_background": "light"
     },
     "output_type": "display_data"
    }
   ],
   "source": [
    "print(\"SVM Z3\")\n",
    "y_pred33 = svm_classifier3.predict(x_test3)\n",
    "\n",
    "cm = confusion_matrix(y_test3, y_pred32)\n",
    "labels = ['0', '1', '2']\n",
    "\n",
    "plot_confusion_matrix(cm, classes = labels)\n",
    "\n",
    "print('Accuracy = ', accuracy_score(y_test3, y_pred32))"
   ]
  },
  {
   "cell_type": "code",
   "execution_count": 26,
   "id": "f9672adb-ecf1-4004-a14a-c18feb7a2f33",
   "metadata": {},
   "outputs": [
    {
     "name": "stdout",
     "output_type": "stream",
     "text": [
      "RBF-SVM Z3\n",
      "Confusion matrix, without normalization\n",
      "[[115   4   0]\n",
      " [  0 226   0]\n",
      " [  2   0  25]]\n",
      "Accuracy =  0.9838709677419355\n"
     ]
    },
    {
     "data": {
      "image/png": "[encoded data removed]",
      "text/plain": [
       "<Figure size 432x288 with 2 Axes>"
      ]
     },
     "metadata": {
      "needs_background": "light"
     },
     "output_type": "display_data"
    }
   ],
   "source": [
    "print(\"RBF-SVM Z3\")\n",
    "y_pred34 = k_svm_classifier3.predict(x_test3)\n",
    "\n",
    "cm = confusion_matrix(y_test3, y_pred34)\n",
    "labels = ['0', '1', '2']\n",
    "\n",
    "plot_confusion_matrix(cm, classes = labels)\n",
    "\n",
    "print('Accuracy = ', accuracy_score(y_test3, y_pred34))"
   ]
  },
  {
   "cell_type": "code",
   "execution_count": 27,
   "id": "87fbc17d-d1b6-41f1-b310-3ed0ddc3b50f",
   "metadata": {},
   "outputs": [
    {
     "name": "stdout",
     "output_type": "stream",
     "text": [
      "Naive Bayes Z3\n",
      "Confusion matrix, without normalization\n",
      "[[114   1   4]\n",
      " [  3 223   0]\n",
      " [  0   0  27]]\n",
      "Accuracy =  0.978494623655914\n"
     ]
    },
    {
     "data": {
      "image/png": "[encoded data removed]",
      "text/plain": [
       "<Figure size 432x288 with 2 Axes>"
      ]
     },
     "metadata": {
      "needs_background": "light"
     },
     "output_type": "display_data"
    }
   ],
   "source": [
    "print(\"Naive Bayes Z3\")\n",
    "y_pred35 = nb_classifier3.predict(x_test3)\n",
    "\n",
    "cm = confusion_matrix(y_test3, y_pred35)\n",
    "labels = ['0', '1', '2']\n",
    "\n",
    "plot_confusion_matrix(cm, classes = labels)\n",
    "\n",
    "print('Accuracy = ', accuracy_score(y_test3, y_pred35))"
   ]
  },
  {
   "cell_type": "code",
   "execution_count": 28,
   "id": "b87a558a-e2b0-40d2-a3ce-d9f9b352d3a5",
   "metadata": {},
   "outputs": [
    {
     "name": "stdout",
     "output_type": "stream",
     "text": [
      "Decision Tree Z3\n",
      "Confusion matrix, without normalization\n",
      "[[118   0   1]\n",
      " [  3 223   0]\n",
      " [  0   0  27]]\n",
      "Accuracy =  0.989247311827957\n"
     ]
    },
    {
     "data": {
      "image/png": "[encoded data removed]",
      "text/plain": [
       "<Figure size 432x288 with 2 Axes>"
      ]
     },
     "metadata": {
      "needs_background": "light"
     },
     "output_type": "display_data"
    }
   ],
   "source": [
    "print(\"Decision Tree Z3\")\n",
    "y_pred36 = dt_classifier3.predict(x_test3)\n",
    "\n",
    "cm = confusion_matrix(y_test3, y_pred36)\n",
    "labels = ['0', '1', '2']\n",
    "\n",
    "plot_confusion_matrix(cm, classes = labels)\n",
    "\n",
    "print('Accuracy = ', accuracy_score(y_test3, y_pred36))"
   ]
  },
  {
   "cell_type": "code",
   "execution_count": 29,
   "id": "441f7ddc-05d0-4ac5-a127-9cf20c10456b",
   "metadata": {},
   "outputs": [
    {
     "name": "stdout",
     "output_type": "stream",
     "text": [
      "Random Forest Z3\n",
      "Confusion matrix, without normalization\n",
      "[[118   0   1]\n",
      " [  3 223   0]\n",
      " [  0   0  27]]\n",
      "Accuracy =  0.989247311827957\n"
     ]
    },
    {
     "data": {
      "image/png": "[encoded data removed]",
      "text/plain": [
       "<Figure size 432x288 with 2 Axes>"
      ]
     },
     "metadata": {
      "needs_background": "light"
     },
     "output_type": "display_data"
    }
   ],
   "source": [
    "print(\"Random Forest Z3\")\n",
    "y_pred37 = rf_classifier3.predict(x_test3)\n",
    "\n",
    "cm = confusion_matrix(y_test3, y_pred37)\n",
    "labels = ['0', '1', '2']\n",
    "\n",
    "plot_confusion_matrix(cm, classes = labels)\n",
    "\n",
    "print('Accuracy = ', accuracy_score(y_test3, y_pred37))"
   ]
  },
  {
   "cell_type": "markdown",
   "id": "9940c31b-e64b-461e-9c60-ebe9f053965b",
   "metadata": {},
   "source": [
    "### Accuracies"
   ]
  },
  {
   "cell_type": "code",
   "execution_count": 30,
   "id": "87b84c68-a345-482f-8e90-a5b1f9608b6a",
   "metadata": {},
   "outputs": [
    {
     "name": "stdout",
     "output_type": "stream",
     "text": [
      "Logistic Regression =  0.9890829694323144\n",
      "K-Nearest Neighbors =  0.982532751091703\n",
      "Linear Support Vector Machine =  0.982532751091703\n",
      "RBF Kernel Support Vector Machine =  0.9868995633187773\n",
      "Naive Bayes =  0.962882096069869\n",
      "Decision Tree =  0.9956331877729258\n",
      "Random Forest =  0.9978165938864629\n"
     ]
    }
   ],
   "source": [
    "print('Logistic Regression = ', accuracy_score(y_test2, y_pred21))\n",
    "print('K-Nearest Neighbors = ', accuracy_score(y_test2, y_pred22))\n",
    "print('Linear Support Vector Machine = ', accuracy_score(y_test2, y_pred23))\n",
    "print('RBF Kernel Support Vector Machine = ', accuracy_score(y_test2, y_pred24))\n",
    "print('Naive Bayes = ', accuracy_score(y_test2, y_pred25))\n",
    "print('Decision Tree = ', accuracy_score(y_test2, y_pred26))\n",
    "print('Random Forest = ', accuracy_score(y_test2, y_pred27))"
   ]
  },
  {
   "cell_type": "code",
   "execution_count": 31,
   "id": "94c1cea3-42d8-4dce-ad10-c802791ee77d",
   "metadata": {},
   "outputs": [
    {
     "name": "stdout",
     "output_type": "stream",
     "text": [
      "Logistic Regression =  0.9758064516129032\n",
      "K-Nearest Neighbors =  0.978494623655914\n",
      "Linear Support Vector Machine =  0.978494623655914\n",
      "RBF Kernel Support Vector Machine =  0.9838709677419355\n",
      "Naive Bayes =  0.978494623655914\n",
      "Decision Tree =  0.989247311827957\n",
      "Random Forest =  0.989247311827957\n"
     ]
    }
   ],
   "source": [
    "print('Logistic Regression = ', accuracy_score(y_test3, y_pred31))\n",
    "print('K-Nearest Neighbors = ', accuracy_score(y_test3, y_pred32))\n",
    "print('Linear Support Vector Machine = ', accuracy_score(y_test3, y_pred33))\n",
    "print('RBF Kernel Support Vector Machine = ', accuracy_score(y_test3, y_pred34))\n",
    "print('Naive Bayes = ', accuracy_score(y_test3, y_pred35))\n",
    "print('Decision Tree = ', accuracy_score(y_test3, y_pred36))\n",
    "print('Random Forest = ', accuracy_score(y_test3, y_pred37))"
   ]
  },
  {
   "cell_type": "code",
   "execution_count": 32,
   "id": "4e25b839",
   "metadata": {},
   "outputs": [],
   "source": [
    "df2dz2 = dfz2.drop(['height','width','nonpothole_area'], axis=1)\n",
    "df2dz3 = dfz3.drop(['height','width','nonpothole_area'], axis=1)"
   ]
  },
  {
   "cell_type": "code",
   "execution_count": 33,
   "id": "29e74960",
   "metadata": {},
   "outputs": [],
   "source": [
    "df2dz2[\"cluster\"] = y_pred1 = kmeans2.fit_predict(df2dz2)\n",
    "df2dz3[\"cluster\"] = y_pred1 = kmeans3.fit_predict(df2dz3)"
   ]
  },
  {
   "cell_type": "code",
   "execution_count": 38,
   "id": "fc1df34e-e3b3-4a29-8f6f-291540d5fa74",
   "metadata": {},
   "outputs": [
    {
     "data": {
      "text/plain": [
       "<matplotlib.legend.Legend at 0x7f52d1d189d0>"
      ]
     },
     "execution_count": 38,
     "metadata": {},
     "output_type": "execute_result"
    },
    {
     "data": {
      "image/png": "[encoded data removed]",
      "text/plain": [
       "<Figure size 432x288 with 1 Axes>"
      ]
     },
     "metadata": {
      "needs_background": "light"
     },
     "output_type": "display_data"
    }
   ],
   "source": [
    "df21 = df2dz2[df2dz2.cluster==0]\n",
    "df22 = df2dz2[df2dz2.cluster==1]\n",
    "df23 = df2dz2[df2dz2.cluster==2]\n",
    "plt.scatter(df21.pothole_area,df21.area,color='green',alpha=0.4)\n",
    "plt.scatter(df22.pothole_area,df22.area,color='black',alpha=0.4)\n",
    "plt.scatter(df23.pothole_area,df23.area,color='red',alpha=0.4)\n",
    "plt.scatter(kmeans2.cluster_centers_[:,0],kmeans2.cluster_centers_[:,1],color='purple',marker='+',label='centroid')\n",
    "plt.xlabel(\"Pothole Area\")\n",
    "plt.ylabel(\"Area\")\n",
    "plt.legend()"
   ]
  },
  {
   "cell_type": "code",
   "execution_count": 40,
   "id": "bef7f326",
   "metadata": {},
   "outputs": [
    {
     "data": {
      "text/plain": [
       "<matplotlib.legend.Legend at 0x7f52d2103a60>"
      ]
     },
     "execution_count": 40,
     "metadata": {},
     "output_type": "execute_result"
    },
    {
     "data": {
      "image/png": "[encoded data removed]",
      "text/plain": [
       "<Figure size 432x288 with 1 Axes>"
      ]
     },
     "metadata": {
      "needs_background": "light"
     },
     "output_type": "display_data"
    }
   ],
   "source": [
    "df31 = df2dz3[df2dz3.cluster==0]\n",
    "df32 = df2dz3[df2dz3.cluster==1]\n",
    "df33 = df2dz3[df2dz3.cluster==2]\n",
    "plt.scatter(df31.pothole_area,df31.area,color='black',alpha=0.4)\n",
    "plt.scatter(df32.pothole_area,df32.area,color='red',alpha=0.4)\n",
    "plt.scatter(df33.pothole_area,df33.area,color='green',alpha=0.4)\n",
    "plt.scatter(kmeans3.cluster_centers_[:,0],kmeans3.cluster_centers_[:,1],color='purple',marker='+',label='centroid')\n",
    "plt.xlabel(\"Pothole Area\")\n",
    "plt.ylabel(\"Area\")\n",
    "plt.legend()"
   ]
  },
  {
   "cell_type": "code",
   "execution_count": 36,
   "id": "df7fa01e",
   "metadata": {},
   "outputs": [
    {
     "data": {
      "text/html": [
       "<div>\n",
       "<style scoped>\n",
       "    .dataframe tbody tr th:only-of-type {\n",
       "        vertical-align: middle;\n",
       "    }\n",
       "\n",
       "    .dataframe tbody tr th {\n",
       "        vertical-align: top;\n",
       "    }\n",
       "\n",
       "    .dataframe thead th {\n",
       "        text-align: right;\n",
       "    }\n",
       "</style>\n",
       "<table border=\"1\" class=\"dataframe\">\n",
       "  <thead>\n",
       "    <tr style=\"text-align: right;\">\n",
       "      <th></th>\n",
       "      <th>height</th>\n",
       "      <th>width</th>\n",
       "      <th>area</th>\n",
       "      <th>pothole_area</th>\n",
       "      <th>nonpothole_area</th>\n",
       "      <th>cluster</th>\n",
       "    </tr>\n",
       "  </thead>\n",
       "  <tbody>\n",
       "    <tr>\n",
       "      <th>count</th>\n",
       "      <td>1143.000000</td>\n",
       "      <td>1143.000000</td>\n",
       "      <td>1143.000000</td>\n",
       "      <td>1143.000000</td>\n",
       "      <td>1143.000000</td>\n",
       "      <td>1143.000000</td>\n",
       "    </tr>\n",
       "    <tr>\n",
       "      <th>mean</th>\n",
       "      <td>61.168854</td>\n",
       "      <td>109.952756</td>\n",
       "      <td>7153.521435</td>\n",
       "      <td>4939.468941</td>\n",
       "      <td>2214.052493</td>\n",
       "      <td>0.639545</td>\n",
       "    </tr>\n",
       "    <tr>\n",
       "      <th>std</th>\n",
       "      <td>29.207909</td>\n",
       "      <td>40.743135</td>\n",
       "      <td>5046.530053</td>\n",
       "      <td>3426.292545</td>\n",
       "      <td>1873.387972</td>\n",
       "      <td>0.530582</td>\n",
       "    </tr>\n",
       "    <tr>\n",
       "      <th>min</th>\n",
       "      <td>11.000000</td>\n",
       "      <td>13.000000</td>\n",
       "      <td>304.000000</td>\n",
       "      <td>215.000000</td>\n",
       "      <td>75.000000</td>\n",
       "      <td>0.000000</td>\n",
       "    </tr>\n",
       "    <tr>\n",
       "      <th>25%</th>\n",
       "      <td>40.000000</td>\n",
       "      <td>80.000000</td>\n",
       "      <td>3456.000000</td>\n",
       "      <td>2323.000000</td>\n",
       "      <td>945.000000</td>\n",
       "      <td>0.000000</td>\n",
       "    </tr>\n",
       "    <tr>\n",
       "      <th>50%</th>\n",
       "      <td>57.000000</td>\n",
       "      <td>106.000000</td>\n",
       "      <td>6120.000000</td>\n",
       "      <td>4321.000000</td>\n",
       "      <td>1743.000000</td>\n",
       "      <td>1.000000</td>\n",
       "    </tr>\n",
       "    <tr>\n",
       "      <th>75%</th>\n",
       "      <td>74.000000</td>\n",
       "      <td>137.000000</td>\n",
       "      <td>9622.500000</td>\n",
       "      <td>6670.500000</td>\n",
       "      <td>2894.000000</td>\n",
       "      <td>1.000000</td>\n",
       "    </tr>\n",
       "    <tr>\n",
       "      <th>max</th>\n",
       "      <td>164.000000</td>\n",
       "      <td>274.000000</td>\n",
       "      <td>34524.000000</td>\n",
       "      <td>27685.000000</td>\n",
       "      <td>17780.000000</td>\n",
       "      <td>2.000000</td>\n",
       "    </tr>\n",
       "  </tbody>\n",
       "</table>\n",
       "</div>"
      ],
      "text/plain": [
       "            height        width          area  pothole_area  nonpothole_area  \\\n",
       "count  1143.000000  1143.000000   1143.000000   1143.000000      1143.000000   \n",
       "mean     61.168854   109.952756   7153.521435   4939.468941      2214.052493   \n",
       "std      29.207909    40.743135   5046.530053   3426.292545      1873.387972   \n",
       "min      11.000000    13.000000    304.000000    215.000000        75.000000   \n",
       "25%      40.000000    80.000000   3456.000000   2323.000000       945.000000   \n",
       "50%      57.000000   106.000000   6120.000000   4321.000000      1743.000000   \n",
       "75%      74.000000   137.000000   9622.500000   6670.500000      2894.000000   \n",
       "max     164.000000   274.000000  34524.000000  27685.000000     17780.000000   \n",
       "\n",
       "           cluster  \n",
       "count  1143.000000  \n",
       "mean      0.639545  \n",
       "std       0.530582  \n",
       "min       0.000000  \n",
       "25%       0.000000  \n",
       "50%       1.000000  \n",
       "75%       1.000000  \n",
       "max       2.000000  "
      ]
     },
     "execution_count": 36,
     "metadata": {},
     "output_type": "execute_result"
    }
   ],
   "source": [
    "dfz2.describe()"
   ]
  },
  {
   "cell_type": "code",
   "execution_count": 37,
   "id": "1cb35ccc",
   "metadata": {},
   "outputs": [
    {
     "data": {
      "text/html": [
       "<div>\n",
       "<style scoped>\n",
       "    .dataframe tbody tr th:only-of-type {\n",
       "        vertical-align: middle;\n",
       "    }\n",
       "\n",
       "    .dataframe tbody tr th {\n",
       "        vertical-align: top;\n",
       "    }\n",
       "\n",
       "    .dataframe thead th {\n",
       "        text-align: right;\n",
       "    }\n",
       "</style>\n",
       "<table border=\"1\" class=\"dataframe\">\n",
       "  <thead>\n",
       "    <tr style=\"text-align: right;\">\n",
       "      <th></th>\n",
       "      <th>height</th>\n",
       "      <th>width</th>\n",
       "      <th>area</th>\n",
       "      <th>pothole_area</th>\n",
       "      <th>nonpothole_area</th>\n",
       "      <th>cluster</th>\n",
       "    </tr>\n",
       "  </thead>\n",
       "  <tbody>\n",
       "    <tr>\n",
       "      <th>count</th>\n",
       "      <td>930.000000</td>\n",
       "      <td>930.000000</td>\n",
       "      <td>930.000000</td>\n",
       "      <td>930.000000</td>\n",
       "      <td>930.000000</td>\n",
       "      <td>930.000000</td>\n",
       "    </tr>\n",
       "    <tr>\n",
       "      <th>mean</th>\n",
       "      <td>141.246237</td>\n",
       "      <td>160.008602</td>\n",
       "      <td>24136.586022</td>\n",
       "      <td>16398.926882</td>\n",
       "      <td>7737.659140</td>\n",
       "      <td>0.755914</td>\n",
       "    </tr>\n",
       "    <tr>\n",
       "      <th>std</th>\n",
       "      <td>61.173830</td>\n",
       "      <td>60.393898</td>\n",
       "      <td>16866.241902</td>\n",
       "      <td>11359.076938</td>\n",
       "      <td>6335.443707</td>\n",
       "      <td>0.573540</td>\n",
       "    </tr>\n",
       "    <tr>\n",
       "      <th>min</th>\n",
       "      <td>16.000000</td>\n",
       "      <td>26.000000</td>\n",
       "      <td>416.000000</td>\n",
       "      <td>297.000000</td>\n",
       "      <td>119.000000</td>\n",
       "      <td>0.000000</td>\n",
       "    </tr>\n",
       "    <tr>\n",
       "      <th>25%</th>\n",
       "      <td>93.000000</td>\n",
       "      <td>114.000000</td>\n",
       "      <td>11819.500000</td>\n",
       "      <td>7876.750000</td>\n",
       "      <td>3174.500000</td>\n",
       "      <td>0.000000</td>\n",
       "    </tr>\n",
       "    <tr>\n",
       "      <th>50%</th>\n",
       "      <td>140.500000</td>\n",
       "      <td>152.000000</td>\n",
       "      <td>20167.500000</td>\n",
       "      <td>13939.000000</td>\n",
       "      <td>6038.500000</td>\n",
       "      <td>1.000000</td>\n",
       "    </tr>\n",
       "    <tr>\n",
       "      <th>75%</th>\n",
       "      <td>185.000000</td>\n",
       "      <td>196.000000</td>\n",
       "      <td>33099.000000</td>\n",
       "      <td>22620.000000</td>\n",
       "      <td>10167.500000</td>\n",
       "      <td>1.000000</td>\n",
       "    </tr>\n",
       "    <tr>\n",
       "      <th>max</th>\n",
       "      <td>339.000000</td>\n",
       "      <td>368.000000</td>\n",
       "      <td>106107.000000</td>\n",
       "      <td>87658.000000</td>\n",
       "      <td>50293.000000</td>\n",
       "      <td>2.000000</td>\n",
       "    </tr>\n",
       "  </tbody>\n",
       "</table>\n",
       "</div>"
      ],
      "text/plain": [
       "           height       width           area  pothole_area  nonpothole_area  \\\n",
       "count  930.000000  930.000000     930.000000    930.000000       930.000000   \n",
       "mean   141.246237  160.008602   24136.586022  16398.926882      7737.659140   \n",
       "std     61.173830   60.393898   16866.241902  11359.076938      6335.443707   \n",
       "min     16.000000   26.000000     416.000000    297.000000       119.000000   \n",
       "25%     93.000000  114.000000   11819.500000   7876.750000      3174.500000   \n",
       "50%    140.500000  152.000000   20167.500000  13939.000000      6038.500000   \n",
       "75%    185.000000  196.000000   33099.000000  22620.000000     10167.500000   \n",
       "max    339.000000  368.000000  106107.000000  87658.000000     50293.000000   \n",
       "\n",
       "          cluster  \n",
       "count  930.000000  \n",
       "mean     0.755914  \n",
       "std      0.573540  \n",
       "min      0.000000  \n",
       "25%      0.000000  \n",
       "50%      1.000000  \n",
       "75%      1.000000  \n",
       "max      2.000000  "
      ]
     },
     "execution_count": 37,
     "metadata": {},
     "output_type": "execute_result"
    }
   ],
   "source": [
    "dfz3.describe()"
   ]
  }
 ],
 "metadata": {
  "kernelspec": {
   "display_name": "Python 3 (ipykernel)",
   "language": "python",
   "name": "python3"
  },
  "language_info": {
   "codemirror_mode": {
    "name": "ipython",
    "version": 3
   },
   "file_extension": ".py",
   "mimetype": "text/x-python",
   "name": "python",
   "nbconvert_exporter": "python",
   "pygments_lexer": "ipython3",
   "version": "3.9.7"
  }
 },
 "nbformat": 4,
 "nbformat_minor": 5
}
